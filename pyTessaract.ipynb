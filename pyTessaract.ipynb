{
  "nbformat": 4,
  "nbformat_minor": 0,
  "metadata": {
    "colab": {
      "name": "pyTessaract.ipynb",
      "provenance": [],
      "collapsed_sections": [],
      "authorship_tag": "ABX9TyNUpjfIVtTGu19fbzAqIvVp",
      "include_colab_link": true
    },
    "kernelspec": {
      "name": "python3",
      "display_name": "Python 3"
    }
  },
  "cells": [
    {
      "cell_type": "markdown",
      "metadata": {
        "id": "view-in-github",
        "colab_type": "text"
      },
      "source": [
        "<a href=\"https://colab.research.google.com/github/arafMustavi/python/blob/master/pyTessaract.ipynb\" target=\"_parent\"><img src=\"https://colab.research.google.com/assets/colab-badge.svg\" alt=\"Open In Colab\"/></a>"
      ]
    },
    {
      "cell_type": "markdown",
      "metadata": {
        "id": "izcJ-kqBsE2m",
        "colab_type": "text"
      },
      "source": [
        "# pyTesseract \n",
        "Installation of pyTessaract\n",
        "Tesseract is not inbuilt/pre-installed in Colab Environment. To enable it,we have to run the following command that will download and install the *OCR and pyTesseract* in our environment.\n"
      ]
    },
    {
      "cell_type": "code",
      "metadata": {
        "id": "FVvBpAI-z0Mp",
        "colab_type": "code",
        "colab": {}
      },
      "source": [
        "!sudo apt install tesseract-ocr\n",
        "!pip install pytesseract"
      ],
      "execution_count": null,
      "outputs": []
    },
    {
      "cell_type": "markdown",
      "metadata": {
        "id": "ZIEUEGIa68sT",
        "colab_type": "text"
      },
      "source": [
        "Tesseract Import"
      ]
    },
    {
      "cell_type": "code",
      "metadata": {
        "id": "Vtw8qiMCs7td",
        "colab_type": "code",
        "colab": {}
      },
      "source": [
        "from PIL import Image\n",
        "\n",
        "import pytesseract\n",
        "\n",
        "dir(pytesseract)"
      ],
      "execution_count": null,
      "outputs": []
    },
    {
      "cell_type": "code",
      "metadata": {
        "id": "XynFXnrevKgP",
        "colab_type": "code",
        "colab": {}
      },
      "source": [
        "help(pytesseract.image_to_string)\n",
        "\n",
        "help(Image.Image.resize)"
      ],
      "execution_count": null,
      "outputs": []
    },
    {
      "cell_type": "code",
      "metadata": {
        "id": "BvBqFSuBv6jy",
        "colab_type": "code",
        "colab": {}
      },
      "source": [
        "import inspect\n",
        "\n",
        "src = inspect.getsource(pytesseract.image_to_string)\n",
        "\n",
        "print(src)\n",
        "\n",
        "# This Returns how the function looks like under the hood"
      ],
      "execution_count": null,
      "outputs": []
    },
    {
      "cell_type": "markdown",
      "metadata": {
        "id": "RAEYm5usw3fR",
        "colab_type": "text"
      },
      "source": [
        "We can inspect this as well using just ?? at the end of any method\n",
        "\n",
        "format : **package.method??**\n",
        "\n",
        "example : \n",
        "```\n",
        "# pytesseract.image_to_string??\n",
        "```\n",
        "\n"
      ]
    },
    {
      "cell_type": "code",
      "metadata": {
        "id": "8xbbZ59mwy6d",
        "colab_type": "code",
        "colab": {}
      },
      "source": [
        "pytesseract.image_to_string??"
      ],
      "execution_count": 21,
      "outputs": []
    },
    {
      "cell_type": "markdown",
      "metadata": {
        "id": "_OyVOFFv7HOH",
        "colab_type": "text"
      },
      "source": [
        "**Tesseract in Action**\n",
        "\n",
        "Importing of the image to work with OCR\n",
        "Running using the OCR"
      ]
    },
    {
      "cell_type": "code",
      "metadata": {
        "id": "wGF1AG7XrUkt",
        "colab_type": "code",
        "colab": {}
      },
      "source": [
        "img = Image.open(\"siemens.jpg\")\n",
        "display(img)\n",
        "\n",
        "print(\"----------------------------\")\n",
        "\n",
        "text = pytesseract.image_to_string(img)\n",
        "print(text)"
      ],
      "execution_count": null,
      "outputs": []
    },
    {
      "cell_type": "code",
      "metadata": {
        "id": "bA6hXSND3dIF",
        "colab_type": "code",
        "colab": {}
      },
      "source": [
        "img2 = Image.open(\"Tessaract.png\")\n",
        "display(img2)\n",
        "\n",
        "print(\"----------------------------\")\n",
        "\n",
        "text2 = pytesseract.image_to_string(img2)\n",
        "print(text)"
      ],
      "execution_count": null,
      "outputs": []
    },
    {
      "cell_type": "markdown",
      "metadata": {
        "id": "lSFOCcbh8-TW",
        "colab_type": "text"
      },
      "source": [
        "I followed this [medium](https://medium.com/@bhadreshpsavani/how-to-use-tesseract-library-for-ocr-in-google-colab-notebook-5da5470e4fe0) Article:"
      ]
    }
  ]
}