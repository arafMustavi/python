{
  "nbformat": 4,
  "nbformat_minor": 0,
  "metadata": {
    "colab": {
      "name": "python.ipynb",
      "provenance": [],
      "collapsed_sections": [],
      "authorship_tag": "ABX9TyP2iNTbQmSjnjuxOL7mi1Zd",
      "include_colab_link": true
    },
    "kernelspec": {
      "name": "python3",
      "display_name": "Python 3"
    }
  },
  "cells": [
    {
      "cell_type": "markdown",
      "metadata": {
        "id": "view-in-github",
        "colab_type": "text"
      },
      "source": [
        "<a href=\"https://colab.research.google.com/github/arafMustavi/python/blob/master/python.ipynb\" target=\"_parent\"><img src=\"https://colab.research.google.com/assets/colab-badge.svg\" alt=\"Open In Colab\"/></a>"
      ]
    },
    {
      "cell_type": "markdown",
      "metadata": {
        "id": "_lLG2Efutosf",
        "colab_type": "text"
      },
      "source": [
        "#Coursera | python3 Specialization | PIL explore \n",
        "Python PIL Library Explore"
      ]
    },
    {
      "cell_type": "code",
      "metadata": {
        "id": "8UBhGbIwsSpo",
        "colab_type": "code",
        "colab": {
          "base_uri": "https://localhost:8080/",
          "height": 35
        },
        "outputId": "83eccd17-8470-4a28-f080-1d3ac45f5d59"
      },
      "source": [
        "import PIL\n",
        "PIL.__version__ #Checks the Current Version of the PIL\n",
        "#To get a better overview of the PIL library\n",
        "help(PIL)\n",
        "#Internal Functions of PIL\n",
        "dir(PIL)"
      ],
      "execution_count": 2,
      "outputs": [
        {
          "output_type": "execute_result",
          "data": {
            "text/plain": [
              "'7.0.0'"
            ]
          },
          "metadata": {
            "tags": []
          },
          "execution_count": 2
        }
      ]
    },
    {
      "cell_type": "code",
      "metadata": {
        "id": "-uxgRWokt8gz",
        "colab_type": "code",
        "colab": {}
      },
      "source": [
        ""
      ],
      "execution_count": 0,
      "outputs": []
    },
    {
      "cell_type": "markdown",
      "metadata": {
        "id": "8T4PgENxt3zV",
        "colab_type": "text"
      },
      "source": [
        "#Task 01 : Loading an Image"
      ]
    },
    {
      "cell_type": "code",
      "metadata": {
        "id": "2dXcsDdiw2hz",
        "colab_type": "code",
        "colab": {}
      },
      "source": [
        "from PIL import Image\n",
        "help(Image)\n",
        "#Working with image\n",
        "file = \"/content/think.png\" \n",
        "image = Image.open(file)\n",
        "print(image)"
      ],
      "execution_count": 0,
      "outputs": []
    },
    {
      "cell_type": "markdown",
      "metadata": {
        "id": "EXhe108nx2FF",
        "colab_type": "text"
      },
      "source": [
        "The upper code's result explain:\n",
        "Color     : RGBA color \n",
        "Dimension : 1794 x 1478\n"
      ]
    },
    {
      "cell_type": "code",
      "metadata": {
        "id": "te133smmx7bD",
        "colab_type": "code",
        "colab": {}
      },
      "source": [
        "import inspect                      #To find the type of the object,we need to inspect\n",
        "print(\"Type \" + str(type(image)))\n",
        "inspect.getmro(type(image))         #Returns a tuple that shows from where it is inherited\n",
        "image.show()                        #Didn't show"
      ],
      "execution_count": 0,
      "outputs": []
    },
    {
      "cell_type": "markdown",
      "metadata": {
        "id": "Gua-v2N1yZh4",
        "colab_type": "text"
      },
      "source": [
        "**Display an Image**"
      ]
    },
    {
      "cell_type": "code",
      "metadata": {
        "id": "UmFCWT36yyx0",
        "colab_type": "code",
        "colab": {}
      },
      "source": [
        "from IPython.display import display\n",
        "display(image)"
      ],
      "execution_count": 0,
      "outputs": []
    },
    {
      "cell_type": "markdown",
      "metadata": {
        "id": "aAQ0n1xG2_Zz",
        "colab_type": "text"
      },
      "source": [
        "#PIL further explore"
      ]
    },
    {
      "cell_type": "code",
      "metadata": {
        "id": "Jyvmq1O12-4H",
        "colab_type": "code",
        "colab": {}
      },
      "source": [
        "import PIL\n",
        "from PIL import Image\n",
        "from IPython.display import display\n",
        "\n",
        "fileDirectory = \"/content/think.png\" \n",
        "image = Image.open(fileDirectory)\n",
        "\n",
        "#image.copy\n",
        "#image.save\n",
        "image.save(\"/content/think.png\" )\n",
        "image=Image.open(\"/content/think.png\" )\n",
        "import inspect\n",
        "inspect.getmro(type(image))\n",
        "from PIL import ImageFilter\n",
        "#help(ImageFilter)"
      ],
      "execution_count": 0,
      "outputs": []
    }
  ]
}